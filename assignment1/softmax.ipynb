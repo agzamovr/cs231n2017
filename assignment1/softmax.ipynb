{
 "cells": [
  {
   "cell_type": "markdown",
   "metadata": {},
   "source": [
    "# Softmax exercise\n",
    "\n",
    "*Complete and hand in this completed worksheet (including its outputs and any supporting code outside of the worksheet) with your assignment submission. For more details see the [assignments page](http://vision.stanford.edu/teaching/cs231n/assignments.html) on the course website.*\n",
    "\n",
    "This exercise is analogous to the SVM exercise. You will:\n",
    "\n",
    "- implement a fully-vectorized **loss function** for the Softmax classifier\n",
    "- implement the fully-vectorized expression for its **analytic gradient**\n",
    "- **check your implementation** with numerical gradient\n",
    "- use a validation set to **tune the learning rate and regularization** strength\n",
    "- **optimize** the loss function with **SGD**\n",
    "- **visualize** the final learned weights\n"
   ]
  },
  {
   "cell_type": "code",
   "execution_count": 1,
   "metadata": {
    "ExecuteTime": {
     "end_time": "2017-11-18T12:54:36.783041Z",
     "start_time": "2017-11-18T12:54:36.283043Z"
    }
   },
   "outputs": [],
   "source": [
    "import random\n",
    "import numpy as np\n",
    "from cs231n.data_utils import load_CIFAR10\n",
    "import matplotlib.pyplot as plt\n",
    "\n",
    "from __future__ import print_function\n",
    "\n",
    "%matplotlib inline\n",
    "plt.rcParams['figure.figsize'] = (10.0, 8.0) # set default size of plots\n",
    "plt.rcParams['image.interpolation'] = 'nearest'\n",
    "plt.rcParams['image.cmap'] = 'gray'\n",
    "\n",
    "# for auto-reloading extenrnal modules\n",
    "# see http://stackoverflow.com/questions/1907993/autoreload-of-modules-in-ipython\n",
    "%load_ext autoreload\n",
    "%autoreload 2"
   ]
  },
  {
   "cell_type": "code",
   "execution_count": 2,
   "metadata": {
    "ExecuteTime": {
     "end_time": "2017-11-18T12:56:45.346668Z",
     "start_time": "2017-11-18T12:56:42.194168Z"
    }
   },
   "outputs": [
    {
     "name": "stdout",
     "output_type": "stream",
     "text": [
      "Train data shape:  (49000, 3073)\n",
      "Train labels shape:  (49000,)\n",
      "Validation data shape:  (1000, 3073)\n",
      "Validation labels shape:  (1000,)\n",
      "Test data shape:  (1000, 3073)\n",
      "Test labels shape:  (1000,)\n",
      "dev data shape:  (500, 3073)\n",
      "dev labels shape:  (500,)\n"
     ]
    }
   ],
   "source": [
    "def get_CIFAR10_data(num_training=49000, num_validation=1000, num_test=1000, num_dev=500):\n",
    "    \"\"\"\n",
    "    Load the CIFAR-10 dataset from disk and perform preprocessing to prepare\n",
    "    it for the linear classifier. These are the same steps as we used for the\n",
    "    SVM, but condensed to a single function.  \n",
    "    \"\"\"\n",
    "    # Load the raw CIFAR-10 data\n",
    "    cifar10_dir = 'cs231n/datasets/cifar-10-batches-py'\n",
    "    X_train, y_train, X_test, y_test = load_CIFAR10(cifar10_dir)\n",
    "    \n",
    "    # subsample the data\n",
    "    mask = list(range(num_training, num_training + num_validation))\n",
    "    X_val = X_train[mask]\n",
    "    y_val = y_train[mask]\n",
    "    mask = list(range(num_training))\n",
    "    X_train = X_train[mask]\n",
    "    y_train = y_train[mask]\n",
    "    mask = list(range(num_test))\n",
    "    X_test = X_test[mask]\n",
    "    y_test = y_test[mask]\n",
    "    mask = np.random.choice(num_training, num_dev, replace=False)\n",
    "    X_dev = X_train[mask]\n",
    "    y_dev = y_train[mask]\n",
    "    \n",
    "    # Preprocessing: reshape the image data into rows\n",
    "    X_train = np.reshape(X_train, (X_train.shape[0], -1))\n",
    "    X_val = np.reshape(X_val, (X_val.shape[0], -1))\n",
    "    X_test = np.reshape(X_test, (X_test.shape[0], -1))\n",
    "    X_dev = np.reshape(X_dev, (X_dev.shape[0], -1))\n",
    "    \n",
    "    # Normalize the data: subtract the mean image\n",
    "    mean_image = np.mean(X_train, axis = 0)\n",
    "    X_train -= mean_image\n",
    "    X_val -= mean_image\n",
    "    X_test -= mean_image\n",
    "    X_dev -= mean_image\n",
    "    \n",
    "    # add bias dimension and transform into columns\n",
    "    X_train = np.hstack([X_train, np.ones((X_train.shape[0], 1))])\n",
    "    X_val = np.hstack([X_val, np.ones((X_val.shape[0], 1))])\n",
    "    X_test = np.hstack([X_test, np.ones((X_test.shape[0], 1))])\n",
    "    X_dev = np.hstack([X_dev, np.ones((X_dev.shape[0], 1))])\n",
    "    \n",
    "    return X_train, y_train, X_val, y_val, X_test, y_test, X_dev, y_dev\n",
    "\n",
    "\n",
    "# Invoke the above function to get our data.\n",
    "X_train, y_train, X_val, y_val, X_test, y_test, X_dev, y_dev = get_CIFAR10_data()\n",
    "print('Train data shape: ', X_train.shape)\n",
    "print('Train labels shape: ', y_train.shape)\n",
    "print('Validation data shape: ', X_val.shape)\n",
    "print('Validation labels shape: ', y_val.shape)\n",
    "print('Test data shape: ', X_test.shape)\n",
    "print('Test labels shape: ', y_test.shape)\n",
    "print('dev data shape: ', X_dev.shape)\n",
    "print('dev labels shape: ', y_dev.shape)"
   ]
  },
  {
   "cell_type": "markdown",
   "metadata": {},
   "source": [
    "## Softmax Classifier\n",
    "\n",
    "Your code for this section will all be written inside **cs231n/classifiers/softmax.py**. \n"
   ]
  },
  {
   "cell_type": "code",
   "execution_count": 17,
   "metadata": {
    "ExecuteTime": {
     "end_time": "2017-11-19T05:50:03.244883Z",
     "start_time": "2017-11-19T05:50:03.115883Z"
    }
   },
   "outputs": [
    {
     "name": "stdout",
     "output_type": "stream",
     "text": [
      "loss: 2.363467\n",
      "sanity check: 2.302585\n"
     ]
    }
   ],
   "source": [
    "# First implement the naive softmax loss function with nested loops.\n",
    "# Open the file cs231n/classifiers/softmax.py and implement the\n",
    "# softmax_loss_naive function.\n",
    "\n",
    "from cs231n.classifiers.softmax import softmax_loss_naive\n",
    "import time\n",
    "\n",
    "# Generate a random softmax weight matrix and use it to compute the loss.\n",
    "W = np.random.randn(3073, 10) * 0.0001\n",
    "loss, grad = softmax_loss_naive(W, X_dev, y_dev, 0.0)\n",
    "\n",
    "# As a rough sanity check, our loss should be something close to -log(0.1).\n",
    "print('loss: %f' % loss)\n",
    "print('sanity check: %f' % (-np.log(0.1)))"
   ]
  },
  {
   "cell_type": "markdown",
   "metadata": {},
   "source": [
    "## Inline Question 1:\n",
    "Why do we expect our loss to be close to -log(0.1)? Explain briefly.**\n",
    "\n",
    "**Your answer:** *Fill this in*\n"
   ]
  },
  {
   "cell_type": "code",
   "execution_count": 20,
   "metadata": {
    "ExecuteTime": {
     "end_time": "2017-11-19T05:52:16.421619Z",
     "start_time": "2017-11-19T05:52:13.206119Z"
    }
   },
   "outputs": [
    {
     "name": "stdout",
     "output_type": "stream",
     "text": [
      "numerical: -3.025769 analytic: -3.025769, relative error: 2.999198e-08\n",
      "numerical: -1.425725 analytic: -1.425725, relative error: 1.100323e-08\n",
      "numerical: -1.505792 analytic: -1.505792, relative error: 1.188216e-10\n",
      "numerical: 3.803901 analytic: 3.803900, relative error: 1.837357e-08\n",
      "numerical: -0.609443 analytic: -0.609443, relative error: 1.165357e-07\n",
      "numerical: -3.544632 analytic: -3.544632, relative error: 9.629748e-09\n",
      "numerical: -1.538379 analytic: -1.538379, relative error: 9.578280e-09\n",
      "numerical: 1.595317 analytic: 1.595317, relative error: 2.205948e-08\n",
      "numerical: 2.216395 analytic: 2.216395, relative error: 1.960972e-08\n",
      "numerical: 0.696900 analytic: 0.696900, relative error: 2.877899e-10\n",
      "numerical: -1.527913 analytic: -1.528959, relative error: 3.422653e-04\n",
      "numerical: -1.784075 analytic: -1.782374, relative error: 4.769078e-04\n",
      "numerical: 0.256801 analytic: 0.256764, relative error: 7.155881e-05\n",
      "numerical: -0.229110 analytic: -0.237454, relative error: 1.788483e-02\n",
      "numerical: -0.822915 analytic: -0.826748, relative error: 2.323402e-03\n",
      "numerical: 0.423428 analytic: 0.429693, relative error: 7.343353e-03\n",
      "numerical: -1.495615 analytic: -1.483332, relative error: 4.123443e-03\n",
      "numerical: -0.565142 analytic: -0.568177, relative error: 2.677693e-03\n",
      "numerical: 0.107730 analytic: 0.106442, relative error: 6.014145e-03\n",
      "numerical: -2.384659 analytic: -2.391414, relative error: 1.414244e-03\n"
     ]
    }
   ],
   "source": [
    "# Complete the implementation of softmax_loss_naive and implement a (naive)\n",
    "# version of the gradient that uses nested loops.\n",
    "loss, grad = softmax_loss_naive(W, X_dev, y_dev, 0.0)\n",
    "\n",
    "# As we did for the SVM, use numeric gradient checking as a debugging tool.\n",
    "# The numeric gradient should be close to the analytic gradient.\n",
    "from cs231n.gradient_check import grad_check_sparse\n",
    "f = lambda w: softmax_loss_naive(w, X_dev, y_dev, 0.0)[0]\n",
    "grad_numerical = grad_check_sparse(f, W, grad, 10)\n",
    "\n",
    "# similar to SVM case, do another gradient check with regularization\n",
    "loss, grad = softmax_loss_naive(W, X_dev, y_dev, 5e1)\n",
    "f = lambda w: softmax_loss_naive(w, X_dev, y_dev, 5e1)[0]\n",
    "grad_numerical = grad_check_sparse(f, W, grad, 10)"
   ]
  },
  {
   "cell_type": "code",
   "execution_count": 24,
   "metadata": {
    "ExecuteTime": {
     "end_time": "2017-11-19T06:07:51.503331Z",
     "start_time": "2017-11-19T06:07:51.362330Z"
    }
   },
   "outputs": [
    {
     "name": "stdout",
     "output_type": "stream",
     "text": [
      "naive loss: 2.363467e+00 computed in 0.074000s\n",
      "vectorized loss: 2.399085e+01 computed in 0.004000s\n",
      "Loss difference: 21.627379\n",
      "Gradient difference: 0.000000\n"
     ]
    }
   ],
   "source": [
    "# Now that we have a naive implementation of the softmax loss function and its gradient,\n",
    "# implement a vectorized version in softmax_loss_vectorized.\n",
    "# The two versions should compute the same results, but the vectorized version should be\n",
    "# much faster.\n",
    "tic = time.time()\n",
    "loss_naive, grad_naive = softmax_loss_naive(W, X_dev, y_dev, 0.000005)\n",
    "toc = time.time()\n",
    "print('naive loss: %e computed in %fs' % (loss_naive, toc - tic))\n",
    "\n",
    "from cs231n.classifiers.softmax import softmax_loss_vectorized\n",
    "tic = time.time()\n",
    "loss_vectorized, grad_vectorized = softmax_loss_vectorized(W, X_dev, y_dev, 0.000005)\n",
    "toc = time.time()\n",
    "print('vectorized loss: %e computed in %fs' % (loss_vectorized, toc - tic))\n",
    "\n",
    "# As we did for the SVM, we use the Frobenius norm to compare the two versions\n",
    "# of the gradient.\n",
    "grad_difference = np.linalg.norm(grad_naive - grad_vectorized, ord='fro')\n",
    "print('Loss difference: %f' % np.abs(loss_naive - loss_vectorized))\n",
    "print('Gradient difference: %f' % grad_difference)"
   ]
  },
  {
   "cell_type": "code",
   "execution_count": 26,
   "metadata": {
    "ExecuteTime": {
     "end_time": "2017-11-19T06:20:49.643123Z",
     "start_time": "2017-11-19T06:20:28.753100Z"
    }
   },
   "outputs": [
    {
     "name": "stderr",
     "output_type": "stream",
     "text": [
      "C:\\datascience\\cs231n\\assignment1\\cs231n\\classifiers\\softmax.py:91: RuntimeWarning: overflow encountered in double_scalars\n",
      "  loss += reg * np.sum(W * W)\n",
      "C:\\datascience\\cs231n\\assignment1\\cs231n\\classifiers\\softmax.py:91: RuntimeWarning: overflow encountered in multiply\n",
      "  loss += reg * np.sum(W * W)\n"
     ]
    },
    {
     "name": "stdout",
     "output_type": "stream",
     "text": [
      "lr 1.000000e-07 reg 1.000000e+00 train accuracy: 0.139898 val accuracy: 0.128000\n",
      "lr 1.000000e-07 reg 1.000000e+01 train accuracy: 0.137959 val accuracy: 0.134000\n",
      "lr 1.000000e-07 reg 1.000000e+02 train accuracy: 0.154776 val accuracy: 0.149000\n",
      "lr 1.000000e-07 reg 1.000000e+03 train accuracy: 0.150184 val accuracy: 0.141000\n",
      "lr 1.000000e-07 reg 2.500000e+04 train accuracy: 0.175306 val accuracy: 0.164000\n",
      "lr 1.000000e-07 reg 5.000000e+04 train accuracy: 0.167265 val accuracy: 0.169000\n",
      "lr 1.000000e-06 reg 1.000000e+00 train accuracy: 0.229184 val accuracy: 0.233000\n",
      "lr 1.000000e-06 reg 1.000000e+01 train accuracy: 0.237633 val accuracy: 0.233000\n",
      "lr 1.000000e-06 reg 1.000000e+02 train accuracy: 0.229082 val accuracy: 0.207000\n",
      "lr 1.000000e-06 reg 1.000000e+03 train accuracy: 0.227714 val accuracy: 0.238000\n",
      "lr 1.000000e-06 reg 2.500000e+04 train accuracy: 0.339612 val accuracy: 0.356000\n",
      "lr 1.000000e-06 reg 5.000000e+04 train accuracy: 0.332980 val accuracy: 0.338000\n",
      "lr 1.000000e-05 reg 1.000000e+00 train accuracy: 0.291816 val accuracy: 0.286000\n",
      "lr 1.000000e-05 reg 1.000000e+01 train accuracy: 0.265510 val accuracy: 0.264000\n",
      "lr 1.000000e-05 reg 1.000000e+02 train accuracy: 0.264551 val accuracy: 0.277000\n",
      "lr 1.000000e-05 reg 1.000000e+03 train accuracy: 0.282082 val accuracy: 0.269000\n",
      "lr 1.000000e-05 reg 2.500000e+04 train accuracy: 0.181551 val accuracy: 0.199000\n",
      "lr 1.000000e-05 reg 5.000000e+04 train accuracy: 0.096673 val accuracy: 0.094000\n",
      "lr 5.000000e-05 reg 1.000000e+00 train accuracy: 0.222245 val accuracy: 0.224000\n",
      "lr 5.000000e-05 reg 1.000000e+01 train accuracy: 0.291306 val accuracy: 0.274000\n",
      "lr 5.000000e-05 reg 1.000000e+02 train accuracy: 0.278490 val accuracy: 0.290000\n",
      "lr 5.000000e-05 reg 1.000000e+03 train accuracy: 0.199857 val accuracy: 0.218000\n",
      "lr 5.000000e-05 reg 2.500000e+04 train accuracy: 0.078837 val accuracy: 0.093000\n",
      "lr 5.000000e-05 reg 5.000000e+04 train accuracy: 0.071347 val accuracy: 0.070000\n",
      "lr 1.000000e-04 reg 1.000000e+00 train accuracy: 0.223184 val accuracy: 0.219000\n",
      "lr 1.000000e-04 reg 1.000000e+01 train accuracy: 0.243102 val accuracy: 0.247000\n",
      "lr 1.000000e-04 reg 1.000000e+02 train accuracy: 0.228673 val accuracy: 0.219000\n",
      "lr 1.000000e-04 reg 1.000000e+03 train accuracy: 0.182510 val accuracy: 0.190000\n",
      "lr 1.000000e-04 reg 2.500000e+04 train accuracy: 0.102898 val accuracy: 0.105000\n",
      "lr 1.000000e-04 reg 5.000000e+04 train accuracy: 0.061408 val accuracy: 0.046000\n",
      "lr 1.000000e-03 reg 1.000000e+00 train accuracy: 0.222020 val accuracy: 0.229000\n",
      "lr 1.000000e-03 reg 1.000000e+01 train accuracy: 0.230551 val accuracy: 0.230000\n",
      "lr 1.000000e-03 reg 1.000000e+02 train accuracy: 0.233898 val accuracy: 0.238000\n",
      "lr 1.000000e-03 reg 1.000000e+03 train accuracy: 0.120918 val accuracy: 0.096000\n",
      "lr 1.000000e-03 reg 2.500000e+04 train accuracy: 0.081306 val accuracy: 0.075000\n",
      "lr 1.000000e-03 reg 5.000000e+04 train accuracy: 0.072694 val accuracy: 0.080000\n",
      "best validation accuracy achieved during cross-validation: 0.356000\n"
     ]
    }
   ],
   "source": [
    "# Use the validation set to tune hyperparameters (regularization strength and\n",
    "# learning rate). You should experiment with different ranges for the learning\n",
    "# rates and regularization strengths; if you are careful you should be able to\n",
    "# get a classification accuracy of over 0.35 on the validation set.\n",
    "from cs231n.classifiers import Softmax\n",
    "results = {}\n",
    "best_val = -1\n",
    "best_softmax = None\n",
    "learning_rates = [1e-7, 1e-6, 1e-5, 5e-5, 1e-4, 1e-3]\n",
    "regularization_strengths = [1, 10, 1e2, 1e3, 2.5e4, 5e4]\n",
    "\n",
    "################################################################################\n",
    "# TODO:                                                                        #\n",
    "# Use the validation set to set the learning rate and regularization strength. #\n",
    "# This should be identical to the validation that you did for the SVM; save    #\n",
    "# the best trained softmax classifer in best_softmax.                          #\n",
    "################################################################################\n",
    "for lr in learning_rates:\n",
    "    for rs in regularization_strengths:\n",
    "        sm = Softmax()\n",
    "        loss_hist = sm.train(X_train, y_train, learning_rate=lr, reg=rs, num_iters=100)\n",
    "        y_train_pred = sm.predict(X_train)\n",
    "        train_acc = np.mean(y_train == y_train_pred)\n",
    "        \n",
    "        y_val_pred = sm.predict(X_val)\n",
    "        val_acc = np.mean(y_val == y_val_pred)\n",
    "        if best_val < val_acc:\n",
    "            best_val = val_acc\n",
    "            best_softmax = sm\n",
    "        results[(lr, rs)] = (train_acc, val_acc)\n",
    "################################################################################\n",
    "#                              END OF YOUR CODE                                #\n",
    "################################################################################\n",
    "    \n",
    "# Print out results.\n",
    "for lr, reg in sorted(results):\n",
    "    train_accuracy, val_accuracy = results[(lr, reg)]\n",
    "    print('lr %e reg %e train accuracy: %f val accuracy: %f' % (\n",
    "                lr, reg, train_accuracy, val_accuracy))\n",
    "    \n",
    "print('best validation accuracy achieved during cross-validation: %f' % best_val)"
   ]
  },
  {
   "cell_type": "code",
   "execution_count": 27,
   "metadata": {
    "ExecuteTime": {
     "end_time": "2017-11-19T06:20:59.167799Z",
     "start_time": "2017-11-19T06:20:59.107302Z"
    }
   },
   "outputs": [
    {
     "name": "stdout",
     "output_type": "stream",
     "text": [
      "softmax on raw pixels final test set accuracy: 0.342000\n"
     ]
    }
   ],
   "source": [
    "# evaluate on test set\n",
    "# Evaluate the best softmax on test set\n",
    "y_test_pred = best_softmax.predict(X_test)\n",
    "test_accuracy = np.mean(y_test == y_test_pred)\n",
    "print('softmax on raw pixels final test set accuracy: %f' % (test_accuracy, ))"
   ]
  },
  {
   "cell_type": "code",
   "execution_count": 28,
   "metadata": {
    "ExecuteTime": {
     "end_time": "2017-11-19T06:21:02.323119Z",
     "start_time": "2017-11-19T06:21:01.555619Z"
    }
   },
   "outputs": [
    {
     "data": {
      "image/png": "[encoded data removed]",
      "text/plain": [
       "<matplotlib.figure.Figure at 0x288179a3630>"
      ]
     },
     "metadata": {},
     "output_type": "display_data"
    }
   ],
   "source": [
    "# Visualize the learned weights for each class\n",
    "w = best_softmax.W[:-1,:] # strip out the bias\n",
    "w = w.reshape(32, 32, 3, 10)\n",
    "\n",
    "w_min, w_max = np.min(w), np.max(w)\n",
    "\n",
    "classes = ['plane', 'car', 'bird', 'cat', 'deer', 'dog', 'frog', 'horse', 'ship', 'truck']\n",
    "for i in range(10):\n",
    "    plt.subplot(2, 5, i + 1)\n",
    "    \n",
    "    # Rescale the weights to be between 0 and 255\n",
    "    wimg = 255.0 * (w[:, :, :, i].squeeze() - w_min) / (w_max - w_min)\n",
    "    plt.imshow(wimg.astype('uint8'))\n",
    "    plt.axis('off')\n",
    "    plt.title(classes[i])"
   ]
  }
 ],
 "metadata": {
  "hide_input": false,
  "kernelspec": {
   "display_name": "Python 3",
   "language": "python",
   "name": "python3"
  },
  "language_info": {
   "codemirror_mode": {
    "name": "ipython",
    "version": 3
   },
   "file_extension": ".py",
   "mimetype": "text/x-python",
   "name": "python",
   "nbconvert_exporter": "python",
   "pygments_lexer": "ipython3",
   "version": "3.6.1"
  },
  "varInspector": {
   "cols": {
    "lenName": 16,
    "lenType": 16,
    "lenVar": 40
   },
   "kernels_config": {
    "python": {
     "delete_cmd_postfix": "",
     "delete_cmd_prefix": "del ",
     "library": "var_list.py",
     "varRefreshCmd": "print(var_dic_list())"
    },
    "r": {
     "delete_cmd_postfix": ") ",
     "delete_cmd_prefix": "rm(",
     "library": "var_list.r",
     "varRefreshCmd": "cat(var_dic_list()) "
    }
   },
   "types_to_exclude": [
    "module",
    "function",
    "builtin_function_or_method",
    "instance",
    "_Feature"
   ],
   "window_display": false
  }
 },
 "nbformat": 4,
 "nbformat_minor": 1
}
